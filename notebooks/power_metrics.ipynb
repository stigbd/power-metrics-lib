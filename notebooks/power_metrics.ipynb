{
 "cells": [
  {
   "cell_type": "code",
   "execution_count": null,
   "id": "72d4e7d3-5c16-4637-97f8-3db99be1af72",
   "metadata": {},
   "outputs": [],
   "source": [
    "# Parse a fit file\n",
    "from power_metrics_lib.file_parsers import parse_fit_activity_file\n",
    "\n",
    "activity_data: list[dict] = parse_fit_activity_file(\"../tests/files/file.fit\")\n",
    "\n",
    "power_data: list[int] = [a[\"power\"] for a in activity_data]"
   ]
  },
  {
   "cell_type": "code",
   "execution_count": null,
   "id": "6167f35d-2888-4edf-9377-357f04abb7ed",
   "metadata": {},
   "outputs": [],
   "source": [
    "# Plot the power data\n",
    "import matplotlib.pyplot as plt\n",
    "\n",
    "plt.plot(power_data)\n",
    "plt.ylabel(\"watt\")\n",
    "plt.xlabel(\"duration\")\n",
    "plt.show()"
   ]
  },
  {
   "cell_type": "code",
   "execution_count": null,
   "id": "96fe7b4c-bc10-40f8-81f5-0b98247572d6",
   "metadata": {},
   "outputs": [],
   "source": [
    "# Calculate some initial metrics:\n",
    "import power_metrics_lib.calculate_metrics as pm\n",
    "\n",
    "np = pm.calculate_normalized_power(power_data)\n",
    "ap = pm.calculate_average_power(power_data)\n",
    "print(f\"normalized power (np): {np}\")\n",
    "print(f\"average power (ap): {ap}\")"
   ]
  },
  {
   "cell_type": "code",
   "execution_count": null,
   "id": "3226d92e-62ec-4892-a31b-7aa4cb26e6e2",
   "metadata": {},
   "outputs": [],
   "source": [
    "# Based on np, we can calculate the intensity_factor given your ftp:\n",
    "ftp = 236\n",
    "intensity_factor = pm.calculate_intensity_factor(np, ftp)\n",
    "print(f\"intensity_factor: {intensity_factor}\")"
   ]
  },
  {
   "cell_type": "code",
   "execution_count": null,
   "id": "7c26b44e-1f03-4393-b6da-15b48d350301",
   "metadata": {},
   "outputs": [],
   "source": [
    "# More metrics:\n",
    "duration = pm.calculate_duration(power_data)\n",
    "tss = pm.calculate_training_stress_score(\n",
    "    normalized_power=np,\n",
    "    ftp=ftp,\n",
    "    duration=duration[\"seconds\"],\n",
    "    intensity_factor=intensity_factor,\n",
    ")\n",
    "print(\n",
    "    f\"duration:\\n \\tin seconds: {duration['seconds']}\\n\\tin hhmmss: {duration['hh:mm:ss']}\"\n",
    ")\n",
    "print(f\"total stress score: {tss}\")"
   ]
  },
  {
   "cell_type": "code",
   "execution_count": null,
   "id": "7d8b0e0c-3c64-4974-a0ea-e49612ce3c72",
   "metadata": {},
   "outputs": [],
   "source": [
    "# Total work and max power:\n",
    "total_work = pm.calculate_total_work(power_data)\n",
    "max_power = pm.calculate_max_power(power_data)\n",
    "print(f\"total work: {total_work}\")\n",
    "\n",
    "print(f\"max power: {max_power}\")"
   ]
  },
  {
   "cell_type": "code",
   "execution_count": null,
   "id": "e2ddcc2b-e14c-452f-81ad-fa0f4f830acd",
   "metadata": {},
   "outputs": [],
   "source": [
    "# Plot elevation:\n",
    "elevation_data: list[int] = [a[\"altitude\"] for a in activity_data]\n",
    "\n",
    "plt.plot(elevation_data)\n",
    "plt.ylabel(\"altitude\")\n",
    "plt.xlabel(\"duration\")\n",
    "plt.show()"
   ]
  }
 ],
 "metadata": {
  "kernelspec": {
   "display_name": "Python 3 (ipykernel)",
   "language": "python",
   "name": "python3"
  },
  "language_info": {
   "codemirror_mode": {
    "name": "ipython",
    "version": 3
   },
   "file_extension": ".py",
   "mimetype": "text/x-python",
   "name": "python",
   "nbconvert_exporter": "python",
   "pygments_lexer": "ipython3",
   "version": "3.13.0"
  }
 },
 "nbformat": 4,
 "nbformat_minor": 5
}
