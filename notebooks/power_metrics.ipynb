{
 "cells": [
  {
   "cell_type": "code",
   "execution_count": null,
   "id": "332d05b8-706c-4a64-906b-e57b6e71882e",
   "metadata": {},
   "outputs": [],
   "source": [
    "# Install dependencies\n",
    "!uv pip install matplotlib"
   ]
  },
  {
   "cell_type": "code",
   "execution_count": null,
   "id": "72d4e7d3-5c16-4637-97f8-3db99be1af72",
   "metadata": {},
   "outputs": [],
   "source": [
    "# Create an activity from a fit file\n",
    "from power_metrics_lib import Activity\n",
    "\n",
    "activity = Activity(\"../tests/files/activity.fit\")"
   ]
  },
  {
   "cell_type": "code",
   "execution_count": null,
   "id": "6167f35d-2888-4edf-9377-357f04abb7ed",
   "metadata": {},
   "outputs": [],
   "source": [
    "# Plot the power data\n",
    "import matplotlib.pyplot as plt\n",
    "\n",
    "plt.plot(activity.power)\n",
    "plt.ylabel(\"watt\")\n",
    "plt.xlabel(\"duration\")\n",
    "plt.show()"
   ]
  },
  {
   "cell_type": "code",
   "execution_count": null,
   "id": "96fe7b4c-bc10-40f8-81f5-0b98247572d6",
   "metadata": {},
   "outputs": [],
   "source": [
    "# Display some basic metrics:\n",
    "print(f\"duration in seconds:\\t{activity.duration}\")\n",
    "print(f\"normalized power:\\t{activity.normalized_power}\")\n",
    "print(f\"average power:\\t\\t{activity.average_power}\")\n",
    "print(f\"variability index:\\t{activity.variability_index}\")\n",
    "print(f\"max power:\\t\\t{activity.max_power}\")"
   ]
  },
  {
   "cell_type": "code",
   "execution_count": null,
   "id": "3226d92e-62ec-4892-a31b-7aa4cb26e6e2",
   "metadata": {},
   "outputs": [],
   "source": [
    "# Based on np, we can calculate more metrics given your ftp:\n",
    "ftp = 236\n",
    "activity.ftp = ftp\n",
    "activity.calculate_metrics()\n",
    "print(f\"intensity-factor:\\t\\t{activity.intensity_factor}\")\n",
    "print(f\"training stress score (tss):\\t{activity.training_stress_score}\")\n",
    "print(f\"total work:\\t\\t\\t{activity.total_work}\")"
   ]
  },
  {
   "cell_type": "code",
   "execution_count": null,
   "id": "9d2cde36-07f3-4d59-b321-4a79be44192e",
   "metadata": {},
   "outputs": [],
   "source": [
    "# Create a workout object from file:\n",
    "from power_metrics_lib import Workout\n",
    "\n",
    "workout = Workout(\"../tests/files/mosaic.zwo\", ftp=ftp)\n",
    "print(f\"workout duration:\\t{workout.duration}\")"
   ]
  },
  {
   "cell_type": "code",
   "execution_count": null,
   "id": "d9f95712-96ad-4eac-9402-5132f6ea8c43",
   "metadata": {},
   "outputs": [],
   "source": [
    "# Plot the workout power:\n",
    "plt.plot(workout.power)\n",
    "plt.ylabel(\"watt\")\n",
    "plt.xlabel(\"duration\")\n",
    "plt.show()"
   ]
  },
  {
   "cell_type": "code",
   "execution_count": null,
   "id": "84778dd0-c97c-4705-a3c4-f553a632fbf9",
   "metadata": {},
   "outputs": [],
   "source": [
    "# Display metrics on workout:\n",
    "print(f\"normalized power:\\t{workout.normalized_power}\")\n",
    "print(f\"average power:\\t\\t{workout.average_power}\")\n",
    "print(f\"variability index:\\t\\t{workout.variability_index}\")\n",
    "print(f\"duration:\\t\\t{workout.duration}\")\n",
    "print(f\"intensity factor:\\t{workout.intensity_factor}\")\n",
    "print(f\"training stress score:\\t{workout.training_stress_score}\")"
   ]
  },
  {
   "cell_type": "code",
   "execution_count": null,
   "id": "5b013c92-021f-4646-828f-f159ff81b162",
   "metadata": {},
   "outputs": [],
   "source": [
    "# Compare\n",
    "print(\"\\t\\t\\tActivity\\tWorkout\")\n",
    "print(f\"duration:\\t\\t{activity.duration}\\t\\t{workout.duration}\")\n",
    "print(\n",
    "    f\"average power:\\t\\t{round(activity.average_power,2)}\\t\\t{round(workout.average_power, 2)}\"\n",
    ")\n",
    "print(\n",
    "    f\"normalized power:\\t{round(activity.normalized_power,2)}\\t\\t{round(workout.normalized_power, 2)}\"\n",
    ")\n",
    "print(\n",
    "    f\"intensitiy factor:\\t{round(activity.intensity_factor,2)}\\t\\t{round(workout.intensity_factor, 2)}\"\n",
    ")\n",
    "print(\n",
    "    f\"training stress score:\\t{round(activity.training_stress_score,2)}\\t\\t{round(workout.training_stress_score, 2)}\"\n",
    ")"
   ]
  },
  {
   "cell_type": "code",
   "execution_count": null,
   "id": "4d041ce5-b033-4156-81c1-db98ebfa4e0b",
   "metadata": {},
   "outputs": [],
   "source": [
    "# Plot both\n",
    "plt.figure(figsize=(15, 5), layout=\"constrained\")\n",
    "plt.plot(activity.power, label=\"activity\")\n",
    "plt.plot(workout.power, label=\"workout\")\n",
    "plt.ylabel(\"watt\")\n",
    "plt.xlabel(\"duration\")\n",
    "plt.legend()"
   ]
  }
 ],
 "metadata": {
  "kernelspec": {
   "display_name": "Python 3 (ipykernel)",
   "language": "python",
   "name": "python3"
  },
  "language_info": {
   "codemirror_mode": {
    "name": "ipython",
    "version": 3
   },
   "file_extension": ".py",
   "mimetype": "text/x-python",
   "name": "python",
   "nbconvert_exporter": "python",
   "pygments_lexer": "ipython3",
   "version": "3.13.0"
  }
 },
 "nbformat": 4,
 "nbformat_minor": 5
}
