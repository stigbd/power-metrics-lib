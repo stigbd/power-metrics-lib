{
 "cells": [
  {
   "cell_type": "code",
   "execution_count": null,
   "id": "332d05b8-706c-4a64-906b-e57b6e71882e",
   "metadata": {},
   "outputs": [],
   "source": [
    "# Install dependencies\n",
    "!uv pip install matplotlib"
   ]
  },
  {
   "cell_type": "code",
   "execution_count": null,
   "id": "72d4e7d3-5c16-4637-97f8-3db99be1af72",
   "metadata": {},
   "outputs": [],
   "source": [
    "# Parse a fit file\n",
    "from power_metrics_lib.file_parsers import parse_activity_file\n",
    "from power_metrics_lib.models import Activity\n",
    "\n",
    "activity: Activity = parse_activity_file(\"../tests/files/file.fit\")"
   ]
  },
  {
   "cell_type": "code",
   "execution_count": null,
   "id": "6167f35d-2888-4edf-9377-357f04abb7ed",
   "metadata": {},
   "outputs": [],
   "source": [
    "# Plot the power data\n",
    "import matplotlib.pyplot as plt\n",
    "\n",
    "plt.plot(activity.power)\n",
    "plt.ylabel(\"watt\")\n",
    "plt.xlabel(\"duration\")\n",
    "plt.show()"
   ]
  },
  {
   "cell_type": "code",
   "execution_count": null,
   "id": "96fe7b4c-bc10-40f8-81f5-0b98247572d6",
   "metadata": {},
   "outputs": [],
   "source": [
    "# Calculate some initial metrics:\n",
    "import power_metrics_lib.calculate_metrics as pm\n",
    "\n",
    "np = pm.calculate_normalized_power(activity.power)\n",
    "ap = pm.calculate_average_power(activity.power)\n",
    "print(f\"normalized power (np): {np}\")\n",
    "print(f\"average power (ap): {ap}\")"
   ]
  },
  {
   "cell_type": "code",
   "execution_count": null,
   "id": "3226d92e-62ec-4892-a31b-7aa4cb26e6e2",
   "metadata": {},
   "outputs": [],
   "source": [
    "# Based on np, we can calculate the intensity_factor given your ftp:\n",
    "ftp = 236\n",
    "intensity_factor = pm.calculate_intensity_factor(np, ftp)\n",
    "print(f\"intensity_factor: {intensity_factor}\")"
   ]
  },
  {
   "cell_type": "code",
   "execution_count": null,
   "id": "7c26b44e-1f03-4393-b6da-15b48d350301",
   "metadata": {},
   "outputs": [],
   "source": [
    "# More metrics:\n",
    "duration = pm.calculate_duration(activity.timestamps)\n",
    "tss = pm.calculate_training_stress_score(\n",
    "    normalized_power=np,\n",
    "    ftp=ftp,\n",
    "    duration=duration[\"seconds\"],\n",
    "    intensity_factor=intensity_factor,\n",
    ")\n",
    "print(\n",
    "    f\"duration:\\n \\tin seconds: {duration['seconds']}\\n\\tin hhmmss: {duration['hh:mm:ss']}\"\n",
    ")\n",
    "print(f\"total stress score: {tss}\")"
   ]
  },
  {
   "cell_type": "code",
   "execution_count": null,
   "id": "7d8b0e0c-3c64-4974-a0ea-e49612ce3c72",
   "metadata": {},
   "outputs": [],
   "source": [
    "# Total work and max power:\n",
    "total_work = pm.calculate_total_work(activity.power)\n",
    "max_power = pm.calculate_max_power(activity.power)\n",
    "print(f\"total work: {total_work}\")\n",
    "\n",
    "print(f\"max power: {max_power}\")"
   ]
  },
  {
   "cell_type": "code",
   "execution_count": null,
   "id": "9d2cde36-07f3-4d59-b321-4a79be44192e",
   "metadata": {},
   "outputs": [],
   "source": [
    "# Parse workout file:\n",
    "from power_metrics_lib.file_parsers import parse_workout_file\n",
    "from power_metrics_lib.models import Workout\n",
    "\n",
    "workout: Workout = parse_workout_file(\"../tests/files/mosaic.zwo\")\n",
    "print(workout)"
   ]
  },
  {
   "cell_type": "code",
   "execution_count": null,
   "id": "d9f95712-96ad-4eac-9402-5132f6ea8c43",
   "metadata": {},
   "outputs": [],
   "source": [
    "# Create activity from workout:\n",
    "from power_metrics_lib.transformers import transform_workout_to_activity\n",
    "\n",
    "workout_activity: Activity = transform_workout_to_activity(workout, ftp)\n",
    "\n",
    "plt.plot(workout_activity.power)\n",
    "plt.ylabel(\"watt\")\n",
    "plt.xlabel(\"duration\")\n",
    "plt.show()"
   ]
  },
  {
   "cell_type": "code",
   "execution_count": null,
   "id": "84778dd0-c97c-4705-a3c4-f553a632fbf9",
   "metadata": {},
   "outputs": [],
   "source": [
    "# Calculate metrics on workout:\n",
    "workout_np = pm.calculate_normalized_power(workout_activity.power)\n",
    "workout_ap = pm.calculate_average_power(workout_activity.power)\n",
    "print(f\"workout_np: {workout_np}\")\n",
    "print(f\"workout_ap: {workout_ap}\")"
   ]
  },
  {
   "cell_type": "code",
   "execution_count": null,
   "id": "19333214-d10d-487b-86cd-b43058aedbcf",
   "metadata": {},
   "outputs": [],
   "source": [
    "workout_duration = pm.calculate_duration(workout_activity.timestamps)\n",
    "workout_intensity_factor = pm.calculate_intensity_factor(np, ftp)\n",
    "workout_tss = pm.calculate_training_stress_score(normalized_power=workout_np, ftp=ftp, intensity_factor=workout_intensity_factor, duration=workout_duration[\"seconds\"])\n",
    "print(f\"workout_duration: {workout_duration}\")\n",
    "print(f\"workout_intensity_factor: {workout_intensity_factor}\")\n",
    "print(f\"workout_tss: {workout_tss}\")"
   ]
  },
  {
   "cell_type": "code",
   "execution_count": null,
   "id": "5b013c92-021f-4646-828f-f159ff81b162",
   "metadata": {},
   "outputs": [],
   "source": [
    "# Compare\n",
    "print(\"\\t\\tActivity\\tWorkout\")\n",
    "print(f\"duration:\\t{duration[\"hh:mm:ss\"]}\\t\\t{workout_duration[\"hh:mm:ss\"]}\")\n",
    "print(f\"ap:\\t\\t{round(ap,2)}\\t\\t{round(workout_ap, 2)}\")\n",
    "print(f\"np:\\t\\t{round(np,2)}\\t\\t{round(workout_np, 2)}\")\n",
    "print(f\"tss:\\t\\t{round(tss,2)}\\t\\t{round(workout_tss, 2)}\")\n",
    "print(f\"if:\\t\\t{round(intensity_factor,2)}\\t\\t{round(workout_intensity_factor, 2)}\")"
   ]
  },
  {
   "cell_type": "code",
   "execution_count": null,
   "id": "4d041ce5-b033-4156-81c1-db98ebfa4e0b",
   "metadata": {},
   "outputs": [],
   "source": [
    "# Plot both\n",
    "plt.figure(figsize=(15,5), layout=\"constrained\")\n",
    "plt.plot(activity.power, label=\"activity\")\n",
    "plt.plot(workout_activity.power, label=\"workout\")\n",
    "plt.ylabel(\"watt\")\n",
    "plt.xlabel(\"duration\")\n",
    "plt.legend()"
   ]
  }
 ],
 "metadata": {
  "kernelspec": {
   "display_name": "Python 3 (ipykernel)",
   "language": "python",
   "name": "python3"
  },
  "language_info": {
   "codemirror_mode": {
    "name": "ipython",
    "version": 3
   },
   "file_extension": ".py",
   "mimetype": "text/x-python",
   "name": "python",
   "nbconvert_exporter": "python",
   "pygments_lexer": "ipython3",
   "version": "3.13.0"
  }
 },
 "nbformat": 4,
 "nbformat_minor": 5
}
